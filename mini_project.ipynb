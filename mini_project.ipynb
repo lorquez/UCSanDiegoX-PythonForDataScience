{
 "cells": [
  {
   "cell_type": "markdown",
   "metadata": {
    "colab_type": "text",
    "id": "G3oRUvL1jLbF"
   },
   "source": [
    "# How the renewable energy production has evolved in Spain?\n",
    "Spain, the country I currently live in, has one of the highest amount of sunlight hours in Europe. Also, its continental climate grants strong winds and both factors combined give this country a great renewable energy production potential.\n",
    "In this project, I would like to see if Spain is using this potential."
   ]
  },
  {
   "cell_type": "markdown",
   "metadata": {
    "colab_type": "text",
    "id": "BsT9POfnuasj"
   },
   "source": [
    "First things first: let's call the necessary Python modules"
   ]
  },
  {
   "cell_type": "code",
   "execution_count": 1,
   "metadata": {
    "colab": {},
    "colab_type": "code",
    "id": "9x0l286dDnB7"
   },
   "outputs": [],
   "source": [
    "import pandas as pd\n",
    "import numpy as np\n",
    "import matplotlib.pyplot as plt\n",
    "import os"
   ]
  },
  {
   "cell_type": "code",
   "execution_count": 4,
   "metadata": {},
   "outputs": [
    {
     "name": "stdout",
     "output_type": "stream",
     "text": [
      "Archive:  ./Indicators.zip\n",
      "  inflating: Indicators.csv          \n"
     ]
    }
   ],
   "source": [
    "!unzip ./Indicators.zip"
   ]
  },
  {
   "cell_type": "markdown",
   "metadata": {
    "colab_type": "text",
    "id": "fieHBTw2kOeE"
   },
   "source": [
    "Let's read the indicators csv file and print the columns"
   ]
  },
  {
   "cell_type": "code",
   "execution_count": 5,
   "metadata": {
    "colab": {},
    "colab_type": "code",
    "id": "yqtVCE4Vow0n"
   },
   "outputs": [
    {
     "data": {
      "text/plain": [
       "Index(['CountryName', 'CountryCode', 'IndicatorName', 'IndicatorCode', 'Year',\n",
       "       'Value'],\n",
       "      dtype='object')"
      ]
     },
     "execution_count": 5,
     "metadata": {},
     "output_type": "execute_result"
    }
   ],
   "source": [
    "os.getcwd()+os.sep\n",
    "df = pd.read_csv(os.getcwd()+os.sep+'Indicators.csv')\n",
    "df.columns"
   ]
  },
  {
   "cell_type": "markdown",
   "metadata": {
    "colab_type": "text",
    "id": "1zJiFNVnkZUa"
   },
   "source": [
    "Now let's extract the Electricity porduction from renewable sources"
   ]
  },
  {
   "cell_type": "code",
   "execution_count": 3,
   "metadata": {
    "colab": {},
    "colab_type": "code",
    "id": "j_O_mWcikheD"
   },
   "outputs": [],
   "source": [
    "df_energy_production = df[df['IndicatorName']=='Electricity production from renewable sources, excluding hydroelectric (kWh)']"
   ]
  },
  {
   "cell_type": "markdown",
   "metadata": {
    "colab_type": "text",
    "id": "Xg_oL02gkkko"
   },
   "source": [
    "Creating the Spain and Europe dataframes in order to compare the Spanish renewable energy production with the rest of Europe\n"
   ]
  },
  {
   "cell_type": "code",
   "execution_count": 4,
   "metadata": {
    "colab": {},
    "colab_type": "code",
    "id": "uiPpL7mWkj2a"
   },
   "outputs": [],
   "source": [
    "df_spain = df_energy_production.loc[df_energy_production['CountryName']=='Spain',['Year','Value']]\n",
    "Europe = ['Italy','United Kingdom','Greece','Turkey','Germany','France','Portugal','Denmark','Finland','Sweden','Iceland']\n",
    "df_avg = df_energy_production.groupby(['Year']).mean()\n",
    "df_europe_avg = df_energy_production[df_energy_production['CountryName'].isin(Europe)].groupby(['Year']).mean()\n",
    "\n",
    "df_to_plot = pd.merge(df_spain, df_europe_avg, on='Year',how='outer')\n",
    "\n",
    "df_to_plot.columns = ['Year','Spain','Europe']"
   ]
  },
  {
   "cell_type": "markdown",
   "metadata": {
    "colab_type": "text",
    "id": "stDGlpmrksrx"
   },
   "source": [
    "Generating the plot for graphical comparison"
   ]
  },
  {
   "cell_type": "code",
   "execution_count": 5,
   "metadata": {
    "colab": {},
    "colab_type": "code",
    "id": "PdNW3B94kw8Q",
    "scrolled": true
   },
   "outputs": [
    {
     "data": {
      "image/png": "[encoded data removed]",
      "text/plain": [
       "<Figure size 432x288 with 1 Axes>"
      ]
     },
     "metadata": {
      "needs_background": "light"
     },
     "output_type": "display_data"
    }
   ],
   "source": [
    "plt.plot('Year','Spain',data=df_to_plot,color='red',alpha=0.6)\n",
    "plt.plot('Year','Europe',data=df_to_plot,color='lightblue')\n",
    "plt.xlabel('Year')\n",
    "plt.ylabel('kWh')\n",
    "plt.title('Renewable energy production (kWh): Spain vs Europe')\n",
    "plt.legend()\n",
    "plt.show()"
   ]
  },
  {
   "cell_type": "markdown",
   "metadata": {
    "colab_type": "text",
    "id": "cGdImUfKk0bM"
   },
   "source": [
    "The plot shows how Spain is actually quite above the main european countries average renewable energy production. \n",
    "Now the question is: how this compares with its electric power consumption?"
   ]
  },
  {
   "cell_type": "markdown",
   "metadata": {
    "colab_type": "text",
    "id": "u4YlkUk8lHab"
   },
   "source": [
    "Since the electric power consumption is shown in kWh per capita, we have to multiply it by the population to make the energy consumption and renewable energy prodution comparable"
   ]
  },
  {
   "cell_type": "code",
   "execution_count": 6,
   "metadata": {
    "colab": {},
    "colab_type": "code",
    "id": "Q0fAU8BLk6uc"
   },
   "outputs": [],
   "source": [
    "df_spain_new = df[df['CountryName']=='Spain']\n",
    "indicators_spain = ['Electric power consumption (kWh per capita)','Population, total']\n",
    "df_spain_new = df_spain_new[df_spain_new['IndicatorName'].isin(indicators_spain)]\n",
    "df_spain_electric_consumption = df_spain_new[df_spain_new['IndicatorName']=='Electric power consumption (kWh per capita)']\n",
    "df_spain_population = df_spain_new[df_spain_new['IndicatorName']=='Population, total']\n",
    "df_spain_new = pd.merge(df_spain_electric_consumption,df_spain_population,on='Year',how='outer')\n",
    "df_spain_new = df_spain_new[['Year','Value_x','Value_y']]\n",
    "df_spain_new.columns = ['Year','Electric power consumption (kWh per capita)','Population, total']\n",
    "df_spain_new['Electric power consumption (kWh)'] = df_spain_new['Electric power consumption (kWh per capita)']*df_spain_new['Population, total']\n",
    "\n",
    "df_spain_to_plot = pd.merge(df_spain,df_spain_new[['Year','Electric power consumption (kWh)']],on='Year',how='outer')\n",
    "df_spain_to_plot.columns = ['Year','Electricity production from renewable sources, excluding hydroelectric (kWh)','Electric power consumption (kWh)']\n",
    "df_spain_to_plot = df_spain_to_plot.dropna()"
   ]
  },
  {
   "cell_type": "markdown",
   "metadata": {
    "colab_type": "text",
    "id": "AvrhrawSlL5Z"
   },
   "source": [
    "Now that we have the electric power consumption and renewable energy production for each year in the same dataframe, we can visualize the yearly evolution of both indicators."
   ]
  },
  {
   "cell_type": "code",
   "execution_count": 7,
   "metadata": {
    "colab": {},
    "colab_type": "code",
    "id": "GxKZ3x90lgRQ"
   },
   "outputs": [
    {
     "data": {
      "image/png": "[encoded data removed]",
      "text/plain": [
       "<Figure size 432x288 with 1 Axes>"
      ]
     },
     "metadata": {
      "needs_background": "light"
     },
     "output_type": "display_data"
    }
   ],
   "source": [
    "plt.fill_between('Year',df_spain_to_plot.columns[1],data=df_spain_to_plot,color='blue',alpha=0.2)\n",
    "plt.plot('Year',df_spain_to_plot.columns[1],data=df_spain_to_plot,color='blue',alpha=0.6)\n",
    "plt.fill_between('Year',df_spain_to_plot.columns[2],data=df_spain_to_plot,color='lightblue',alpha=0.4)\n",
    "plt.plot('Year',df_spain_to_plot.columns[2],data=df_spain_to_plot,color='lightblue',alpha=0.6)\n",
    "plt.xlabel('Year')\n",
    "plt.ylabel('kWh')\n",
    "plt.title('Comparison between renewable energy production and eletric consumption (Spain)')\n",
    "plt.legend()\n",
    "plt.show()"
   ]
  },
  {
   "cell_type": "markdown",
   "metadata": {
    "colab_type": "text",
    "id": "ROazEpurljQE"
   },
   "source": [
    "Although Spain has notably increased its renewable electric production, it is still quite far from satisfying the country's energy needs. Still, it is worth checking the yearly evolution of the percentage of electric consumption covered by renewable energy."
   ]
  },
  {
   "cell_type": "code",
   "execution_count": 8,
   "metadata": {
    "colab": {},
    "colab_type": "code",
    "id": "nJdRjqrmltFU"
   },
   "outputs": [
    {
     "data": {
      "image/png": "[encoded data removed]",
      "text/plain": [
       "<Figure size 432x288 with 1 Axes>"
      ]
     },
     "metadata": {
      "needs_background": "light"
     },
     "output_type": "display_data"
    }
   ],
   "source": [
    "df_spain_to_plot['production_consumption_ratio'] = df_spain_to_plot['Electricity production from renewable sources, excluding hydroelectric (kWh)']/df_spain_to_plot['Electric power consumption (kWh)']*100\n",
    "\n",
    "plt.plot('Year','production_consumption_ratio',data=df_spain_to_plot,color='blue',alpha=0.6)\n",
    "plt.xlabel('Year')\n",
    "plt.ylabel('%')\n",
    "plt.ylim(0,100)\n",
    "plt.title('Energy production/Electric consumption ratio (Spain)')\n",
    "plt.show()"
   ]
  },
  {
   "cell_type": "markdown",
   "metadata": {
    "colab_type": "text",
    "id": "6geTnRvDlvhY"
   },
   "source": [
    "We can see that the electric consumption in Spain is growing at a slower rate than the renewable energy production, which can be defined as a positive trend."
   ]
  }
 ],
 "metadata": {
  "colab": {
   "collapsed_sections": [],
   "name": "mini-project.ipynb",
   "provenance": []
  },
  "kernelspec": {
   "display_name": "Python 3 (ipykernel)",
   "language": "python",
   "name": "python3"
  },
  "language_info": {
   "codemirror_mode": {
    "name": "ipython",
    "version": 3
   },
   "file_extension": ".py",
   "mimetype": "text/x-python",
   "name": "python",
   "nbconvert_exporter": "python",
   "pygments_lexer": "ipython3",
   "version": "3.9.7"
  }
 },
 "nbformat": 4,
 "nbformat_minor": 1
}
