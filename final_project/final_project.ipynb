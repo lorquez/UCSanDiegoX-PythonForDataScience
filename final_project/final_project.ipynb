{
 "cells": [
  {
   "cell_type": "markdown",
   "metadata": {
    "colab_type": "text",
    "id": "9XYJZWOCUXOQ"
   },
   "source": [
    "\n",
    "# **Real Estate Price Prediction**\n",
    "With this jupyter notebook, I would like to check if it is possible to predict real estate prices using Regression (Linear Regression, to be precise) knowing certain features of the real estate."
   ]
  },
  {
   "cell_type": "markdown",
   "metadata": {
    "colab_type": "text",
    "id": "HYEuSwiVVNJG"
   },
   "source": [
    "First, let's import the needed libraries and the dataset which can be found here: https://www.kaggle.com/davivieirab/real-estate-data-brazil"
   ]
  },
  {
   "cell_type": "code",
   "execution_count": 1,
   "metadata": {
    "colab": {},
    "colab_type": "code",
    "id": "DRc2Bva-vXCF"
   },
   "outputs": [],
   "source": [
    "import pandas as pd\n",
    "import numpy as np\n",
    "import os"
   ]
  },
  {
   "cell_type": "code",
   "execution_count": 2,
   "metadata": {
    "colab": {},
    "colab_type": "code",
    "id": "qRH3ISWWvoYp"
   },
   "outputs": [],
   "source": [
    "filepath = os.getcwd()+os.sep+'real_estate_kaggle.csv'\n",
    "df = pd.read_csv(filepath)"
   ]
  },
  {
   "cell_type": "markdown",
   "metadata": {
    "colab_type": "text",
    "id": "IeiHiUl5VcG5"
   },
   "source": [
    "Now lets perform a basic exploratory data analysis."
   ]
  },
  {
   "cell_type": "code",
   "execution_count": 3,
   "metadata": {
    "colab": {
     "base_uri": "https://localhost:8080/",
     "height": 191
    },
    "colab_type": "code",
    "id": "6JegQsMhvtgE",
    "outputId": "dd1713a9-c769-446c-9b01-1a6c12c26d84"
   },
   "outputs": [
    {
     "name": "stdout",
     "output_type": "stream",
     "text": [
      "(17341, 8)\n",
      "   Unnamed: 0   area rooms suites bathrooms parkings      price neighborhood\n",
      "0           1  230.0     3      3         5        3  3790000.0           JA\n",
      "1           2   85.0     2      1         2        1  1390000.0           JA\n",
      "2           3  136.0     3      1         3        1  1590000.0           JA\n",
      "3           4  136.0     3      1         4        1  1500000.0           JA\n",
      "4           5  310.0     3      1         4        2  4150000.0           JA\n",
      "Index(['Unnamed: 0', 'area', 'rooms', 'suites', 'bathrooms', 'parkings',\n",
      "       'price', 'neighborhood'],\n",
      "      dtype='object')\n"
     ]
    }
   ],
   "source": [
    "print(df.shape)\n",
    "print(df.head())\n",
    "print(df.columns)"
   ]
  },
  {
   "cell_type": "markdown",
   "metadata": {
    "colab_type": "text",
    "id": "6aG0jnycVi9O"
   },
   "source": [
    "So the dataset has 17.341 samples.\n",
    "\n",
    "By simply taking a look at the features, we can see that there is one, called \"Unnamed: 0\" that contains the samples' IDs and can therefore be deleted."
   ]
  },
  {
   "cell_type": "code",
   "execution_count": 4,
   "metadata": {
    "colab": {},
    "colab_type": "code",
    "id": "BK5HNRJovwp1"
   },
   "outputs": [],
   "source": [
    "del df['Unnamed: 0']"
   ]
  },
  {
   "cell_type": "markdown",
   "metadata": {
    "colab_type": "text",
    "id": "SIqOUcPUVywt"
   },
   "source": [
    "We are also able to see that all the features should all be integers, except the one called \"neighborhood\" which should clearly be a string. Let's see if that is the case."
   ]
  },
  {
   "cell_type": "code",
   "execution_count": 5,
   "metadata": {
    "colab": {
     "base_uri": "https://localhost:8080/",
     "height": 156
    },
    "colab_type": "code",
    "id": "p295jvutv0eb",
    "outputId": "57252338-4894-4ccf-8256-76f14faf191c"
   },
   "outputs": [
    {
     "name": "stdout",
     "output_type": "stream",
     "text": [
      "area            float64\n",
      "rooms            object\n",
      "suites           object\n",
      "bathrooms        object\n",
      "parkings         object\n",
      "price           float64\n",
      "neighborhood     object\n",
      "dtype: object\n"
     ]
    }
   ],
   "source": [
    "print(df.dtypes)"
   ]
  },
  {
   "cell_type": "markdown",
   "metadata": {
    "colab_type": "text",
    "id": "5m06vGCrWYXZ"
   },
   "source": [
    "Apparently, the columns \"rooms\", \"suites\", \"bathrooms\" and \"parkings\" have been read by pandas as string, so they must be transformed into integers."
   ]
  },
  {
   "cell_type": "code",
   "execution_count": 6,
   "metadata": {
    "colab": {
     "base_uri": "https://localhost:8080/",
     "height": 34
    },
    "colab_type": "code",
    "id": "tvRl--ctv3jQ",
    "outputId": "358909c0-d962-471c-8ea7-1be53a37a808"
   },
   "outputs": [
    {
     "data": {
      "text/plain": [
       "array(['3', '2', '4', '1', '5', '6', nan, '--'], dtype=object)"
      ]
     },
     "execution_count": 6,
     "metadata": {},
     "output_type": "execute_result"
    }
   ],
   "source": [
    "df['rooms'].unique()"
   ]
  },
  {
   "cell_type": "code",
   "execution_count": 7,
   "metadata": {
    "colab": {
     "base_uri": "https://localhost:8080/",
     "height": 52
    },
    "colab_type": "code",
    "id": "IH_OMAzQWu2Y",
    "outputId": "4101c8bb-6ef7-4a0b-cabf-4204ca9d5e7c"
   },
   "outputs": [
    {
     "data": {
      "text/plain": [
       "array(['3', '1', '--', '2', '4', '5', '10', '20', '12', '6', '34'],\n",
       "      dtype=object)"
      ]
     },
     "execution_count": 7,
     "metadata": {},
     "output_type": "execute_result"
    }
   ],
   "source": [
    "df['suites'].unique()"
   ]
  },
  {
   "cell_type": "code",
   "execution_count": 8,
   "metadata": {
    "colab": {
     "base_uri": "https://localhost:8080/",
     "height": 52
    },
    "colab_type": "code",
    "id": "JQOe3TNcWvfs",
    "outputId": "a3d8b49f-2c1e-4041-ad2b-8a832a665818"
   },
   "outputs": [
    {
     "data": {
      "text/plain": [
       "array(['5', '2', '3', '4', '1', '6', '7', '--', '8', '10', '9', '11'],\n",
       "      dtype=object)"
      ]
     },
     "execution_count": 8,
     "metadata": {},
     "output_type": "execute_result"
    }
   ],
   "source": [
    "df['bathrooms'].unique()"
   ]
  },
  {
   "cell_type": "code",
   "execution_count": 9,
   "metadata": {
    "colab": {
     "base_uri": "https://localhost:8080/",
     "height": 52
    },
    "colab_type": "code",
    "id": "ZKRk_Yj4Wv-Q",
    "outputId": "eca8595f-115e-4816-969c-403309a567d7"
   },
   "outputs": [
    {
     "data": {
      "text/plain": [
       "array(['3', '1', '2', '--', '4', '8', '5', '6', '10', '7', '11', '12',\n",
       "       '9'], dtype=object)"
      ]
     },
     "execution_count": 9,
     "metadata": {},
     "output_type": "execute_result"
    }
   ],
   "source": [
    "df['parkings'].unique()"
   ]
  },
  {
   "cell_type": "markdown",
   "metadata": {
    "colab_type": "text",
    "id": "KoktWE0KW12n"
   },
   "source": [
    "In all the 4 columns, we can see that the value \"0\" has been replaced with \"--\" which is what prevented pandas from importing the colums correctly. There is also a NaN value in the \"rooms\" column. Let's fix this."
   ]
  },
  {
   "cell_type": "code",
   "execution_count": 10,
   "metadata": {
    "colab": {},
    "colab_type": "code",
    "id": "wrLPzaVEv7zj"
   },
   "outputs": [],
   "source": [
    "cols = ['rooms','suites','bathrooms','parkings']\n",
    "for col in cols:\n",
    "      df[col]=df[col].str.replace(\"--\",\"0\")"
   ]
  },
  {
   "cell_type": "code",
   "execution_count": 11,
   "metadata": {
    "colab": {},
    "colab_type": "code",
    "id": "lYvtDyg7wEvX"
   },
   "outputs": [],
   "source": [
    "df['rooms'].fillna(0, inplace=True)"
   ]
  },
  {
   "cell_type": "markdown",
   "metadata": {
    "colab_type": "text",
    "id": "J3YCOgOmXXgO"
   },
   "source": [
    "Now it should be possible to transform those fields from strings to integers"
   ]
  },
  {
   "cell_type": "code",
   "execution_count": 12,
   "metadata": {
    "colab": {},
    "colab_type": "code",
    "id": "Cw4EwgiTwHEr"
   },
   "outputs": [],
   "source": [
    "for col in cols:\n",
    "      df[col]=df[col].astype(int)"
   ]
  },
  {
   "cell_type": "code",
   "execution_count": 13,
   "metadata": {
    "colab": {
     "base_uri": "https://localhost:8080/",
     "height": 156
    },
    "colab_type": "code",
    "id": "cZ8k1wq0wJpl",
    "outputId": "0e663af0-4e44-4de2-ae74-be917ef36607"
   },
   "outputs": [
    {
     "name": "stdout",
     "output_type": "stream",
     "text": [
      "area            float64\n",
      "rooms             int64\n",
      "suites            int64\n",
      "bathrooms         int64\n",
      "parkings          int64\n",
      "price           float64\n",
      "neighborhood     object\n",
      "dtype: object\n"
     ]
    }
   ],
   "source": [
    "print(df.dtypes)"
   ]
  },
  {
   "cell_type": "markdown",
   "metadata": {
    "colab_type": "text",
    "id": "Hdyz13hvXkbE"
   },
   "source": [
    "Now we can also expect the function \"describe\" to work properly. Let's also check for null values."
   ]
  },
  {
   "cell_type": "code",
   "execution_count": 14,
   "metadata": {
    "colab": {
     "base_uri": "https://localhost:8080/",
     "height": 347
    },
    "colab_type": "code",
    "id": "OkphgGdbSlij",
    "outputId": "cf23d134-baa1-4f2a-cccf-ad1537cc518a"
   },
   "outputs": [
    {
     "data": {
      "text/html": [
       "<div>\n",
       "<style scoped>\n",
       "    .dataframe tbody tr th:only-of-type {\n",
       "        vertical-align: middle;\n",
       "    }\n",
       "\n",
       "    .dataframe tbody tr th {\n",
       "        vertical-align: top;\n",
       "    }\n",
       "\n",
       "    .dataframe thead th {\n",
       "        text-align: right;\n",
       "    }\n",
       "</style>\n",
       "<table border=\"1\" class=\"dataframe\">\n",
       "  <thead>\n",
       "    <tr style=\"text-align: right;\">\n",
       "      <th></th>\n",
       "      <th>area</th>\n",
       "      <th>rooms</th>\n",
       "      <th>suites</th>\n",
       "      <th>bathrooms</th>\n",
       "      <th>parkings</th>\n",
       "      <th>price</th>\n",
       "    </tr>\n",
       "  </thead>\n",
       "  <tbody>\n",
       "    <tr>\n",
       "      <th>count</th>\n",
       "      <td>17338.000000</td>\n",
       "      <td>17341.000000</td>\n",
       "      <td>17341.000000</td>\n",
       "      <td>17341.000000</td>\n",
       "      <td>17341.000000</td>\n",
       "      <td>1.734100e+04</td>\n",
       "    </tr>\n",
       "    <tr>\n",
       "      <th>mean</th>\n",
       "      <td>193.843696</td>\n",
       "      <td>2.962517</td>\n",
       "      <td>1.599965</td>\n",
       "      <td>3.281126</td>\n",
       "      <td>1.981028</td>\n",
       "      <td>2.609121e+06</td>\n",
       "    </tr>\n",
       "    <tr>\n",
       "      <th>std</th>\n",
       "      <td>106.801935</td>\n",
       "      <td>0.793778</td>\n",
       "      <td>1.194131</td>\n",
       "      <td>1.415406</td>\n",
       "      <td>1.254306</td>\n",
       "      <td>2.295376e+06</td>\n",
       "    </tr>\n",
       "    <tr>\n",
       "      <th>min</th>\n",
       "      <td>20.000000</td>\n",
       "      <td>0.000000</td>\n",
       "      <td>0.000000</td>\n",
       "      <td>0.000000</td>\n",
       "      <td>0.000000</td>\n",
       "      <td>3.200000e+04</td>\n",
       "    </tr>\n",
       "    <tr>\n",
       "      <th>25%</th>\n",
       "      <td>120.000000</td>\n",
       "      <td>3.000000</td>\n",
       "      <td>1.000000</td>\n",
       "      <td>2.000000</td>\n",
       "      <td>1.000000</td>\n",
       "      <td>1.300000e+06</td>\n",
       "    </tr>\n",
       "    <tr>\n",
       "      <th>50%</th>\n",
       "      <td>175.000000</td>\n",
       "      <td>3.000000</td>\n",
       "      <td>1.000000</td>\n",
       "      <td>3.000000</td>\n",
       "      <td>2.000000</td>\n",
       "      <td>1.950000e+06</td>\n",
       "    </tr>\n",
       "    <tr>\n",
       "      <th>75%</th>\n",
       "      <td>240.000000</td>\n",
       "      <td>3.000000</td>\n",
       "      <td>2.000000</td>\n",
       "      <td>4.000000</td>\n",
       "      <td>3.000000</td>\n",
       "      <td>3.150000e+06</td>\n",
       "    </tr>\n",
       "    <tr>\n",
       "      <th>max</th>\n",
       "      <td>1200.000000</td>\n",
       "      <td>6.000000</td>\n",
       "      <td>34.000000</td>\n",
       "      <td>11.000000</td>\n",
       "      <td>12.000000</td>\n",
       "      <td>3.900000e+07</td>\n",
       "    </tr>\n",
       "  </tbody>\n",
       "</table>\n",
       "</div>"
      ],
      "text/plain": [
       "               area         rooms        suites     bathrooms      parkings  \\\n",
       "count  17338.000000  17341.000000  17341.000000  17341.000000  17341.000000   \n",
       "mean     193.843696      2.962517      1.599965      3.281126      1.981028   \n",
       "std      106.801935      0.793778      1.194131      1.415406      1.254306   \n",
       "min       20.000000      0.000000      0.000000      0.000000      0.000000   \n",
       "25%      120.000000      3.000000      1.000000      2.000000      1.000000   \n",
       "50%      175.000000      3.000000      1.000000      3.000000      2.000000   \n",
       "75%      240.000000      3.000000      2.000000      4.000000      3.000000   \n",
       "max     1200.000000      6.000000     34.000000     11.000000     12.000000   \n",
       "\n",
       "              price  \n",
       "count  1.734100e+04  \n",
       "mean   2.609121e+06  \n",
       "std    2.295376e+06  \n",
       "min    3.200000e+04  \n",
       "25%    1.300000e+06  \n",
       "50%    1.950000e+06  \n",
       "75%    3.150000e+06  \n",
       "max    3.900000e+07  "
      ]
     },
     "execution_count": 14,
     "metadata": {},
     "output_type": "execute_result"
    }
   ],
   "source": [
    "df.describe()"
   ]
  },
  {
   "cell_type": "code",
   "execution_count": 15,
   "metadata": {},
   "outputs": [
    {
     "data": {
      "text/plain": [
       "area             True\n",
       "rooms           False\n",
       "suites          False\n",
       "bathrooms       False\n",
       "parkings        False\n",
       "price           False\n",
       "neighborhood    False\n",
       "dtype: bool"
      ]
     },
     "execution_count": 15,
     "metadata": {},
     "output_type": "execute_result"
    }
   ],
   "source": [
    "df.isna().any()"
   ]
  },
  {
   "cell_type": "markdown",
   "metadata": {
    "colab_type": "text",
    "id": "rXTEwW9nXy19"
   },
   "source": [
    "Apparently there are null values in the \"area\" column. If it would have been any other numeric feature, we could have inferred that the null values could be zeroes but unfortunately we cannot do the same for the \"area\" attribute."
   ]
  },
  {
   "cell_type": "code",
   "execution_count": 16,
   "metadata": {
    "colab": {
     "base_uri": "https://localhost:8080/",
     "height": 143
    },
    "colab_type": "code",
    "id": "Bo7H8R7VwWeC",
    "outputId": "4ac7f54f-42ab-4dba-b7df-9e5b7dd03615"
   },
   "outputs": [
    {
     "data": {
      "text/html": [
       "<div>\n",
       "<style scoped>\n",
       "    .dataframe tbody tr th:only-of-type {\n",
       "        vertical-align: middle;\n",
       "    }\n",
       "\n",
       "    .dataframe tbody tr th {\n",
       "        vertical-align: top;\n",
       "    }\n",
       "\n",
       "    .dataframe thead th {\n",
       "        text-align: right;\n",
       "    }\n",
       "</style>\n",
       "<table border=\"1\" class=\"dataframe\">\n",
       "  <thead>\n",
       "    <tr style=\"text-align: right;\">\n",
       "      <th></th>\n",
       "      <th>area</th>\n",
       "      <th>rooms</th>\n",
       "      <th>suites</th>\n",
       "      <th>bathrooms</th>\n",
       "      <th>parkings</th>\n",
       "      <th>price</th>\n",
       "      <th>neighborhood</th>\n",
       "    </tr>\n",
       "  </thead>\n",
       "  <tbody>\n",
       "    <tr>\n",
       "      <th>6511</th>\n",
       "      <td>NaN</td>\n",
       "      <td>3</td>\n",
       "      <td>1</td>\n",
       "      <td>2</td>\n",
       "      <td>2</td>\n",
       "      <td>2390000.0</td>\n",
       "      <td>JA</td>\n",
       "    </tr>\n",
       "    <tr>\n",
       "      <th>7282</th>\n",
       "      <td>NaN</td>\n",
       "      <td>4</td>\n",
       "      <td>1</td>\n",
       "      <td>4</td>\n",
       "      <td>7</td>\n",
       "      <td>1810000.0</td>\n",
       "      <td>JA</td>\n",
       "    </tr>\n",
       "    <tr>\n",
       "      <th>16848</th>\n",
       "      <td>NaN</td>\n",
       "      <td>2</td>\n",
       "      <td>0</td>\n",
       "      <td>2</td>\n",
       "      <td>1</td>\n",
       "      <td>640000.0</td>\n",
       "      <td>JP</td>\n",
       "    </tr>\n",
       "  </tbody>\n",
       "</table>\n",
       "</div>"
      ],
      "text/plain": [
       "       area  rooms  suites  bathrooms  parkings      price neighborhood\n",
       "6511    NaN      3       1          2         2  2390000.0           JA\n",
       "7282    NaN      4       1          4         7  1810000.0           JA\n",
       "16848   NaN      2       0          2         1   640000.0           JP"
      ]
     },
     "execution_count": 16,
     "metadata": {},
     "output_type": "execute_result"
    }
   ],
   "source": [
    "df[df['area'].isna()]"
   ]
  },
  {
   "cell_type": "markdown",
   "metadata": {
    "colab_type": "text",
    "id": "wpOgYJEcYFsn"
   },
   "source": [
    "It actually looks like an error in the web scraping process. We have to drop those records."
   ]
  },
  {
   "cell_type": "code",
   "execution_count": 17,
   "metadata": {
    "colab": {
     "base_uri": "https://localhost:8080/",
     "height": 34
    },
    "colab_type": "code",
    "id": "w0eqvby2wZtv",
    "outputId": "d9313d76-a96c-4766-ba70-38e7071d55ac"
   },
   "outputs": [
    {
     "data": {
      "text/plain": [
       "(17338, 7)"
      ]
     },
     "execution_count": 17,
     "metadata": {},
     "output_type": "execute_result"
    }
   ],
   "source": [
    "df.dropna(inplace=True)\n",
    "df.shape"
   ]
  },
  {
   "cell_type": "markdown",
   "metadata": {
    "colab_type": "text",
    "id": "cL4wOccYYOaW"
   },
   "source": [
    "After dropping those 3 records, let's take a look at the correlation between the price and the other features"
   ]
  },
  {
   "cell_type": "code",
   "execution_count": 18,
   "metadata": {
    "colab": {
     "base_uri": "https://localhost:8080/",
     "height": 295
    },
    "colab_type": "code",
    "id": "Os9YPYAuweOp",
    "outputId": "86d92b1c-4825-4e69-e2d2-bc9427e7f2af"
   },
   "outputs": [
    {
     "data": {
      "image/png": "[encoded data removed]",
      "text/plain": [
       "<Figure size 432x288 with 1 Axes>"
      ]
     },
     "metadata": {
      "needs_background": "light"
     },
     "output_type": "display_data"
    }
   ],
   "source": [
    "import matplotlib.pyplot as plt\n",
    "%matplotlib inline\n",
    "\n",
    "price = df['price'].sort_values()/1e6\n",
    "plt.hist(price, log=True, alpha=0.5, bins=100)\n",
    "plt.title('Price distribution (logaritmic)', fontsize=20)\n",
    "plt.xlabel('Price (Million R$)', fontsize=15)\n",
    "plt.ylabel('Nº of houses', fontsize=15)\n",
    "plt.show()"
   ]
  },
  {
   "cell_type": "markdown",
   "metadata": {
    "colab_type": "text",
    "id": "U0UDSFULb2qf"
   },
   "source": [
    "We can see that most of the houses have a price closer to the minimum.\n",
    "\n",
    "There supposedly is a close correlation between the house price and its area."
   ]
  },
  {
   "cell_type": "code",
   "execution_count": 19,
   "metadata": {
    "colab": {
     "base_uri": "https://localhost:8080/",
     "height": 139
    },
    "colab_type": "code",
    "id": "z58XD0hKy5tG",
    "outputId": "4b95ba4f-3ca8-4567-bad2-3d63494e0ca3"
   },
   "outputs": [
    {
     "data": {
      "text/plain": [
       "area         0.841147\n",
       "rooms        0.499696\n",
       "suites       0.614119\n",
       "bathrooms    0.540410\n",
       "parkings     0.763911\n",
       "price        1.000000\n",
       "Name: price, dtype: float64"
      ]
     },
     "execution_count": 19,
     "metadata": {},
     "output_type": "execute_result"
    }
   ],
   "source": [
    "df.corr()['price']"
   ]
  },
  {
   "cell_type": "markdown",
   "metadata": {
    "colab_type": "text",
    "id": "pZ7JhQCMz3r2"
   },
   "source": [
    "As expected, the area and price features are highly correlated. Let's visualize it."
   ]
  },
  {
   "cell_type": "code",
   "execution_count": 20,
   "metadata": {
    "colab": {
     "base_uri": "https://localhost:8080/",
     "height": 295
    },
    "colab_type": "code",
    "id": "FYdoCnvgwfJ0",
    "outputId": "e1a48643-fa73-48b3-8373-52ea61c5ef4a"
   },
   "outputs": [
    {
     "data": {
      "image/png": "[encoded data removed]",
      "text/plain": [
       "<Figure size 432x288 with 1 Axes>"
      ]
     },
     "metadata": {
      "needs_background": "light"
     },
     "output_type": "display_data"
    }
   ],
   "source": [
    "plt.scatter(df['price']/1e6,df['area'])\n",
    "plt.title(\"Correlation between price and area\", fontsize=15)\n",
    "plt.xlabel('Price (Million R$)', fontsize=15)\n",
    "plt.ylabel('Area (m2)', fontsize=15)\n",
    "plt.show()"
   ]
  },
  {
   "cell_type": "markdown",
   "metadata": {
    "colab_type": "text",
    "id": "qPiIq8f8dvTK"
   },
   "source": [
    "We can confirm that there is a clear correlation. Still we might compare the price per square meters with the area to see if there are outliers since, to a certain extent, there should be a slight correlation between the price per square meter and the size of the house (bigger houses tend to have a higher cost per square meter).\n"
   ]
  },
  {
   "cell_type": "code",
   "execution_count": 21,
   "metadata": {
    "colab": {
     "base_uri": "https://localhost:8080/",
     "height": 295
    },
    "colab_type": "code",
    "id": "sMvZXc0lS0fK",
    "outputId": "88acad1d-2d32-49d5-b82e-feea16a3a354"
   },
   "outputs": [
    {
     "data": {
      "image/png": "[encoded data removed]",
      "text/plain": [
       "<Figure size 432x288 with 1 Axes>"
      ]
     },
     "metadata": {
      "needs_background": "light"
     },
     "output_type": "display_data"
    }
   ],
   "source": [
    "df['price_per_m2'] = df['price']/df['area']\n",
    "plt.scatter(df['price_per_m2'],df['area'])\n",
    "plt.title(\"Correlation between price per m2 and area\", fontsize=20)\n",
    "plt.xlabel('Price (R$) per m2', fontsize=15)\n",
    "plt.ylabel('Area (m2)', fontsize=15)\n",
    "plt.show()"
   ]
  },
  {
   "cell_type": "markdown",
   "metadata": {
    "colab_type": "text",
    "id": "JnSdQ8AGeAiS"
   },
   "source": [
    "We can clearly see that there are 3 houses that have a surprisingly high price per square meter considering how small they are."
   ]
  },
  {
   "cell_type": "code",
   "execution_count": 22,
   "metadata": {
    "colab": {
     "base_uri": "https://localhost:8080/",
     "height": 143
    },
    "colab_type": "code",
    "id": "Pcavvuxfw2jz",
    "outputId": "e91a2f7a-b52d-41f5-9fda-1732f911902a"
   },
   "outputs": [
    {
     "data": {
      "text/html": [
       "<div>\n",
       "<style scoped>\n",
       "    .dataframe tbody tr th:only-of-type {\n",
       "        vertical-align: middle;\n",
       "    }\n",
       "\n",
       "    .dataframe tbody tr th {\n",
       "        vertical-align: top;\n",
       "    }\n",
       "\n",
       "    .dataframe thead th {\n",
       "        text-align: right;\n",
       "    }\n",
       "</style>\n",
       "<table border=\"1\" class=\"dataframe\">\n",
       "  <thead>\n",
       "    <tr style=\"text-align: right;\">\n",
       "      <th></th>\n",
       "      <th>area</th>\n",
       "      <th>rooms</th>\n",
       "      <th>suites</th>\n",
       "      <th>bathrooms</th>\n",
       "      <th>parkings</th>\n",
       "      <th>price</th>\n",
       "      <th>neighborhood</th>\n",
       "      <th>price_per_m2</th>\n",
       "    </tr>\n",
       "  </thead>\n",
       "  <tbody>\n",
       "    <tr>\n",
       "      <th>10575</th>\n",
       "      <td>21.0</td>\n",
       "      <td>4</td>\n",
       "      <td>4</td>\n",
       "      <td>5</td>\n",
       "      <td>8</td>\n",
       "      <td>8900000.0</td>\n",
       "      <td>JP</td>\n",
       "      <td>423809.52381</td>\n",
       "    </tr>\n",
       "    <tr>\n",
       "      <th>17087</th>\n",
       "      <td>200.0</td>\n",
       "      <td>3</td>\n",
       "      <td>1</td>\n",
       "      <td>2</td>\n",
       "      <td>2</td>\n",
       "      <td>21000000.0</td>\n",
       "      <td>JP</td>\n",
       "      <td>105000.00000</td>\n",
       "    </tr>\n",
       "    <tr>\n",
       "      <th>5765</th>\n",
       "      <td>80.0</td>\n",
       "      <td>3</td>\n",
       "      <td>1</td>\n",
       "      <td>2</td>\n",
       "      <td>5</td>\n",
       "      <td>7000000.0</td>\n",
       "      <td>JA</td>\n",
       "      <td>87500.00000</td>\n",
       "    </tr>\n",
       "  </tbody>\n",
       "</table>\n",
       "</div>"
      ],
      "text/plain": [
       "        area  rooms  suites  bathrooms  parkings       price neighborhood  \\\n",
       "10575   21.0      4       4          5         8   8900000.0           JP   \n",
       "17087  200.0      3       1          2         2  21000000.0           JP   \n",
       "5765    80.0      3       1          2         5   7000000.0           JA   \n",
       "\n",
       "       price_per_m2  \n",
       "10575  423809.52381  \n",
       "17087  105000.00000  \n",
       "5765    87500.00000  "
      ]
     },
     "execution_count": 22,
     "metadata": {},
     "output_type": "execute_result"
    }
   ],
   "source": [
    "df.sort_values(by='price_per_m2', ascending=False).head(3)"
   ]
  },
  {
   "cell_type": "markdown",
   "metadata": {
    "colab_type": "text",
    "id": "83RnqietfGsq"
   },
   "source": [
    "Those 3 houses are clearly outliers, probably dued to errors with the web scraping. Let's drop them out."
   ]
  },
  {
   "cell_type": "code",
   "execution_count": 23,
   "metadata": {
    "colab": {},
    "colab_type": "code",
    "id": "kl1URLzEwk4j"
   },
   "outputs": [],
   "source": [
    "for i in range(0,3):\n",
    "  index_to_drop = df[df['price_per_m2']==df['price_per_m2'].max()].index\n",
    "  df = df.drop(index_to_drop)"
   ]
  },
  {
   "cell_type": "code",
   "execution_count": 24,
   "metadata": {
    "colab": {
     "base_uri": "https://localhost:8080/",
     "height": 295
    },
    "colab_type": "code",
    "id": "X6eWRUAjkZfx",
    "outputId": "4a0368ff-4b08-460c-9a99-81f82f5bdbab"
   },
   "outputs": [
    {
     "data": {
      "image/png": "[encoded data removed]",
      "text/plain": [
       "<Figure size 432x288 with 1 Axes>"
      ]
     },
     "metadata": {
      "needs_background": "light"
     },
     "output_type": "display_data"
    }
   ],
   "source": [
    "plt.scatter(df['price']/1e6,df['area'])\n",
    "plt.title(\"Correlation between price and area\", fontsize=15)\n",
    "plt.xlabel('Price (Million R$)', fontsize=15)\n",
    "plt.ylabel('Area (m2)', fontsize=15)\n",
    "plt.show()"
   ]
  },
  {
   "cell_type": "markdown",
   "metadata": {
    "colab_type": "text",
    "id": "DMFJufJHf7v0"
   },
   "source": [
    "It looks like there is another outlier, this time with a price per square meter that is too low. Let's check the features of that house."
   ]
  },
  {
   "cell_type": "code",
   "execution_count": 25,
   "metadata": {
    "colab": {
     "base_uri": "https://localhost:8080/",
     "height": 81
    },
    "colab_type": "code",
    "id": "hLzH7k3kwyRs",
    "outputId": "2e5cdaf1-6668-4780-e6c3-6e4dcdf8f392"
   },
   "outputs": [
    {
     "data": {
      "text/html": [
       "<div>\n",
       "<style scoped>\n",
       "    .dataframe tbody tr th:only-of-type {\n",
       "        vertical-align: middle;\n",
       "    }\n",
       "\n",
       "    .dataframe tbody tr th {\n",
       "        vertical-align: top;\n",
       "    }\n",
       "\n",
       "    .dataframe thead th {\n",
       "        text-align: right;\n",
       "    }\n",
       "</style>\n",
       "<table border=\"1\" class=\"dataframe\">\n",
       "  <thead>\n",
       "    <tr style=\"text-align: right;\">\n",
       "      <th></th>\n",
       "      <th>area</th>\n",
       "      <th>rooms</th>\n",
       "      <th>suites</th>\n",
       "      <th>bathrooms</th>\n",
       "      <th>parkings</th>\n",
       "      <th>price</th>\n",
       "      <th>neighborhood</th>\n",
       "      <th>price_per_m2</th>\n",
       "    </tr>\n",
       "  </thead>\n",
       "  <tbody>\n",
       "    <tr>\n",
       "      <th>10442</th>\n",
       "      <td>263.0</td>\n",
       "      <td>4</td>\n",
       "      <td>4</td>\n",
       "      <td>5</td>\n",
       "      <td>4</td>\n",
       "      <td>32000.0</td>\n",
       "      <td>JP</td>\n",
       "      <td>121.673004</td>\n",
       "    </tr>\n",
       "  </tbody>\n",
       "</table>\n",
       "</div>"
      ],
      "text/plain": [
       "        area  rooms  suites  bathrooms  parkings    price neighborhood  \\\n",
       "10442  263.0      4       4          5         4  32000.0           JP   \n",
       "\n",
       "       price_per_m2  \n",
       "10442    121.673004  "
      ]
     },
     "execution_count": 25,
     "metadata": {},
     "output_type": "execute_result"
    }
   ],
   "source": [
    "df[df['price_per_m2']==df['price_per_m2'].min()]"
   ]
  },
  {
   "cell_type": "markdown",
   "metadata": {
    "colab_type": "text",
    "id": "N-GXJIoVgJFo"
   },
   "source": [
    "This huge difference between the area and the price of this sample, could probably dued to the fact that the house might need reform. Since we do not have that information, we cannot use this sample."
   ]
  },
  {
   "cell_type": "code",
   "execution_count": 26,
   "metadata": {
    "colab": {},
    "colab_type": "code",
    "id": "z-vhUbEZTFVJ"
   },
   "outputs": [],
   "source": [
    "index_to_drop = df[df['price_per_m2']==df['price_per_m2'].min()].index\n",
    "df = df.drop(index_to_drop)"
   ]
  },
  {
   "cell_type": "code",
   "execution_count": 27,
   "metadata": {
    "colab": {
     "base_uri": "https://localhost:8080/",
     "height": 295
    },
    "colab_type": "code",
    "id": "u9JK3uWiw4Rr",
    "outputId": "62eb18aa-6ba1-4556-dc74-98539124d587"
   },
   "outputs": [
    {
     "data": {
      "image/png": "[encoded data removed]",
      "text/plain": [
       "<Figure size 432x288 with 1 Axes>"
      ]
     },
     "metadata": {
      "needs_background": "light"
     },
     "output_type": "display_data"
    }
   ],
   "source": [
    "plt.scatter(df['price']/1e6,df['area'])\n",
    "plt.title(\"Correlation between price and area\", fontsize=15)\n",
    "plt.xlabel('Price (Million R$)', fontsize=15)\n",
    "plt.ylabel('Area (m2)', fontsize=15)\n",
    "plt.show()"
   ]
  },
  {
   "cell_type": "markdown",
   "metadata": {
    "colab_type": "text",
    "id": "K24-ZWPxhWxN"
   },
   "source": [
    "Before applying any regression algoritm, lets look if there is a graphically visible difference between the two neighborhoods."
   ]
  },
  {
   "cell_type": "code",
   "execution_count": 28,
   "metadata": {
    "colab": {},
    "colab_type": "code",
    "id": "_p1mYvyDxIEU"
   },
   "outputs": [],
   "source": [
    "df_JA = df[df['neighborhood']=='JA']\n",
    "df_JP = df[df['neighborhood']=='JP']"
   ]
  },
  {
   "cell_type": "code",
   "execution_count": 29,
   "metadata": {
    "colab": {
     "base_uri": "https://localhost:8080/",
     "height": 295
    },
    "colab_type": "code",
    "id": "wW0lK_NLTOGX",
    "outputId": "bd760967-3563-4237-bffa-eafdc1fcf233"
   },
   "outputs": [
    {
     "data": {
      "image/png": "[encoded data removed]",
      "text/plain": [
       "<Figure size 432x288 with 1 Axes>"
      ]
     },
     "metadata": {
      "needs_background": "light"
     },
     "output_type": "display_data"
    }
   ],
   "source": [
    "plt.scatter(df_JA['price']/1e6,df_JA['area'],color='red', alpha=0.7)\n",
    "plt.scatter(df_JP['price']/1e6,df_JP['area'],color='blue', alpha=0.5)\n",
    "plt.title(\"Correlation between price and area (m2)\", fontsize=20)\n",
    "plt.xlabel('Price (Million R$)', fontsize=15)\n",
    "plt.ylabel('Area (m2)', fontsize=15)\n",
    "plt.show()"
   ]
  },
  {
   "cell_type": "markdown",
   "metadata": {
    "colab_type": "text",
    "id": "Mpw46Sm8j5vW"
   },
   "source": [
    "It actually does not look like there is a big difference between the two neighborhoods.\n",
    "\n",
    "Let's try to predict prices with the Linear Regression algoritm."
   ]
  },
  {
   "cell_type": "code",
   "execution_count": 30,
   "metadata": {
    "colab": {},
    "colab_type": "code",
    "id": "3THARmHrxRxg"
   },
   "outputs": [],
   "source": [
    "from sklearn.linear_model import LinearRegression\n",
    "from sklearn.model_selection import train_test_split\n",
    "from sklearn.metrics import mean_squared_error, mean_absolute_error, r2_score\n",
    "\n",
    "cols=['area','rooms','suites','bathrooms','parkings']"
   ]
  },
  {
   "cell_type": "markdown",
   "metadata": {
    "colab_type": "text",
    "id": "WBt6zTghl6bP"
   },
   "source": [
    "Test size is set to 0.30, so the model will try to use the 70% of the dataset to predict the price of the remaining 30% of the samples."
   ]
  },
  {
   "cell_type": "code",
   "execution_count": 31,
   "metadata": {
    "colab": {},
    "colab_type": "code",
    "id": "xjRx51-RxUwh"
   },
   "outputs": [],
   "source": [
    "def linear_regression(df):\n",
    "    \n",
    "    X_train, X_test, y_train, y_test = train_test_split(df[cols], df['price'], test_size = .30, random_state = 5)\n",
    "    \n",
    "    regr = LinearRegression()\n",
    "    regr.fit(X=X_train, y=y_train)\n",
    "    \n",
    "    y_pred = regr.predict(X_test)\n",
    "    \n",
    "    print('Average house price: '+str(df['price'].mean()))\n",
    "    print('Root mean squared error: '+str(np.sqrt(mean_squared_error(y_test, y_pred))))\n",
    "    print('Mean absolute error: '+str(mean_absolute_error(y_test, y_pred)))\n",
    "    print('Coefficient of determination (accuracy): '+str(r2_score(y_test, y_pred)))\n",
    "    newdf = pd.DataFrame({'real_price':y_test,'price_pred':y_pred})\n",
    "    newdf = newdf.sort_values('real_price').reset_index()\n",
    "    plt.plot(newdf['real_price']/1e6,color='red',alpha=0.7)\n",
    "    plt.plot(newdf['price_pred']/1e6,color='blue',alpha=0.4)\n",
    "    plt.title('Real price vs. Price prediction', fontsize=20)\n",
    "    plt.ylabel('Price (Million R$)', fontsize=15)\n",
    "    plt.yticks([x for x in range(0,45,5)])\n",
    "    plt.legend(['Real price','Price prediction'], fontsize=15)\n",
    "    plt.show()"
   ]
  },
  {
   "cell_type": "markdown",
   "metadata": {
    "colab_type": "text",
    "id": "4IgmhLDTmIKe"
   },
   "source": [
    "The model will show results for the whole dataset as well as results for the two neigborhood."
   ]
  },
  {
   "cell_type": "code",
   "execution_count": 32,
   "metadata": {
    "colab": {
     "base_uri": "https://localhost:8080/",
     "height": 347
    },
    "colab_type": "code",
    "id": "FAFdfGA1xWkm",
    "outputId": "c11b7d2a-297a-4ec8-a3db-599218d91f15"
   },
   "outputs": [
    {
     "name": "stdout",
     "output_type": "stream",
     "text": [
      "Results for Jardin América neighborhood\n",
      "Average house price: 2965414.6603599447\n",
      "Root mean squared error: 1053227.8560118817\n",
      "Mean absolute error: 683134.3876375926\n",
      "Coefficient of determination (accuracy): 0.7963995438182939\n"
     ]
    },
    {
     "data": {
      "image/png": "[encoded data removed]",
      "text/plain": [
       "<Figure size 432x288 with 1 Axes>"
      ]
     },
     "metadata": {
      "needs_background": "light"
     },
     "output_type": "display_data"
    },
    {
     "name": "stdout",
     "output_type": "stream",
     "text": [
      "\n",
      "\n",
      "Results for Jardin Paulista neighborhood\n",
      "Average house price: 2250032.8840295407\n",
      "Root mean squared error: 825818.069603029\n",
      "Mean absolute error: 499149.4257445683\n",
      "Coefficient of determination (accuracy): 0.7803804617526119\n"
     ]
    },
    {
     "data": {
      "image/png": "[encoded data removed]",
      "text/plain": [
       "<Figure size 432x288 with 1 Axes>"
      ]
     },
     "metadata": {
      "needs_background": "light"
     },
     "output_type": "display_data"
    },
    {
     "name": "stdout",
     "output_type": "stream",
     "text": [
      "\n",
      "\n",
      "Results for the whole dataset\n",
      "Average house price: 2607765.0426329756\n",
      "Root mean squared error: 1154273.5816160021\n",
      "Mean absolute error: 604374.1203563986\n",
      "Coefficient of determination (accuracy): 0.7683205952445108\n"
     ]
    },
    {
     "data": {
      "image/png": "[encoded data removed]",
      "text/plain": [
       "<Figure size 432x288 with 1 Axes>"
      ]
     },
     "metadata": {
      "needs_background": "light"
     },
     "output_type": "display_data"
    }
   ],
   "source": [
    "print(\"Results for Jardin América neighborhood\")\n",
    "linear_regression(df_JA)\n",
    "print(\"\\n\")\n",
    "print(\"Results for Jardin Paulista neighborhood\")\n",
    "linear_regression(df_JP)\n",
    "print(\"\\n\")\n",
    "print(\"Results for the whole dataset\")\n",
    "linear_regression(df)"
   ]
  },
  {
   "cell_type": "markdown",
   "metadata": {
    "colab_type": "text",
    "id": "6O3KAk92weQ0"
   },
   "source": [
    "The RMSE and MAE are quite high if we compare them with the average house price, which means that this model is not precise enough. Still, a coefficent of determination (R2) of 77% when applying the linear regression can tell us that this is possible and can be improved.\n",
    "Two ways of improving this model could be:\n",
    "\n",
    "\n",
    "*   Gather more information about the houses, such as the type of house, the year it was built, if it need reform, etc;\n",
    "*   Use a more advanced regression algorithm.\n",
    "\n",
    "\n"
   ]
  }
 ],
 "metadata": {
  "colab": {
   "collapsed_sections": [],
   "name": "final-project.ipynb",
   "provenance": []
  },
  "kernelspec": {
   "display_name": "Python 3 (ipykernel)",
   "language": "python",
   "name": "python3"
  },
  "language_info": {
   "codemirror_mode": {
    "name": "ipython",
    "version": 3
   },
   "file_extension": ".py",
   "mimetype": "text/x-python",
   "name": "python",
   "nbconvert_exporter": "python",
   "pygments_lexer": "ipython3",
   "version": "3.9.7"
  }
 },
 "nbformat": 4,
 "nbformat_minor": 1
}
